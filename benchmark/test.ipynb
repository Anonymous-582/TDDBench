{
 "cells": [
  {
   "cell_type": "code",
   "execution_count": 1,
   "metadata": {},
   "outputs": [
    {
     "name": "stdout",
     "output_type": "stream",
     "text": [
      "Path to the data: ../data/tabular/student\n",
      "Save data to ../data/tabular/student/student.pkl\n",
      "the whole dataset size: 4424\n",
      "the whole dataset size: 4424\n",
      "Path to the data: ../data/image/cifar10\n",
      "Downloading https://www.cs.toronto.edu/~kriz/cifar-10-python.tar.gz to ../data/image/cifar10/cifar10/cifar-10-python.tar.gz\n"
     ]
    },
    {
     "data": {
      "application/vnd.jupyter.widget-view+json": {
       "model_id": "c0a084cfa6dc49c08a465711db534b5a",
       "version_major": 2,
       "version_minor": 0
      },
      "text/plain": [
       "  0%|          | 0/170498071 [00:00<?, ?it/s]"
      ]
     },
     "metadata": {},
     "output_type": "display_data"
    },
    {
     "name": "stdout",
     "output_type": "stream",
     "text": [
      "Extracting ../data/image/cifar10/cifar10/cifar-10-python.tar.gz to ../data/image/cifar10/cifar10\n",
      "Files already downloaded and verified\n",
      "Save data to ../data/image/cifar10/cifar10.pkl\n",
      "the whole dataset size: 60000\n"
     ]
    }
   ],
   "source": [
    "import sys\n",
    "sys.path.insert(0, \"../basic/\")\n",
    "\n",
    "from dataset import get_dataset\n",
    "dataset0 = get_dataset(\"student\", '../data')\n",
    "dataset1 = get_dataset(\"cifar10\", '../data')"
   ]
  },
  {
   "cell_type": "code",
   "execution_count": 2,
   "metadata": {},
   "outputs": [],
   "source": [
    "import sys\n",
    "sys.path.insert(0, \"../basic/\")\n",
    "\n",
    "from models import get_model\n",
    "model0 = get_model(\"wrn28-2\", \"cifar10\")\n",
    "model1 = get_model(\"resnet18\", \"cifar10\")"
   ]
  }
 ],
 "metadata": {
  "kernelspec": {
   "display_name": "bench",
   "language": "python",
   "name": "python3"
  },
  "language_info": {
   "codemirror_mode": {
    "name": "ipython",
    "version": 3
   },
   "file_extension": ".py",
   "mimetype": "text/x-python",
   "name": "python",
   "nbconvert_exporter": "python",
   "pygments_lexer": "ipython3",
   "version": "3.8.19"
  }
 },
 "nbformat": 4,
 "nbformat_minor": 2
}
